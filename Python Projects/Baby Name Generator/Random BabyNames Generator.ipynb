{
 "cells": [
  {
   "cell_type": "code",
   "execution_count": 1,
   "metadata": {},
   "outputs": [],
   "source": [
    "import string"
   ]
  },
  {
   "cell_type": "code",
   "execution_count": 2,
   "metadata": {},
   "outputs": [
    {
     "name": "stdout",
     "output_type": "stream",
     "text": [
      "abcdefghijklmnopqrstuvwxyz\n"
     ]
    }
   ],
   "source": [
    "print(string.ascii_lowercase)"
   ]
  },
  {
   "cell_type": "code",
   "execution_count": 3,
   "metadata": {},
   "outputs": [
    {
     "name": "stdout",
     "output_type": "stream",
     "text": [
      "ABCDEFGHIJKLMNOPQRSTUVWXYZ\n"
     ]
    }
   ],
   "source": [
    "print(string.ascii_uppercase)"
   ]
  },
  {
   "cell_type": "code",
   "execution_count": 4,
   "metadata": {},
   "outputs": [
    {
     "name": "stdout",
     "output_type": "stream",
     "text": [
      "abcdefghijklmnopqrstuvwxyzABCDEFGHIJKLMNOPQRSTUVWXYZ\n"
     ]
    }
   ],
   "source": [
    "print(string.ascii_letters)"
   ]
  },
  {
   "cell_type": "code",
   "execution_count": 5,
   "metadata": {},
   "outputs": [],
   "source": [
    "import random"
   ]
  },
  {
   "cell_type": "code",
   "execution_count": 7,
   "metadata": {},
   "outputs": [
    {
     "name": "stdout",
     "output_type": "stream",
     "text": [
      "x\n"
     ]
    }
   ],
   "source": [
    "print(random.choice(string.ascii_lowercase))"
   ]
  },
  {
   "cell_type": "markdown",
   "metadata": {},
   "source": [
    "<h3>Creating a function to generate 5 letter random name"
   ]
  },
  {
   "cell_type": "code",
   "execution_count": 8,
   "metadata": {},
   "outputs": [],
   "source": [
    "def generator():\n",
    "    letter1 = random.choice(string.ascii_lowercase)\n",
    "    letter2 = random.choice(string.ascii_lowercase)\n",
    "    letter3 = random.choice(string.ascii_lowercase)\n",
    "    letter4 = random.choice(string.ascii_lowercase)\n",
    "    letter5 = random.choice(string.ascii_lowercase)\n",
    "    name = letter1+letter2+letter3+letter4+letter5\n",
    "    return(name)"
   ]
  },
  {
   "cell_type": "code",
   "execution_count": 9,
   "metadata": {},
   "outputs": [
    {
     "name": "stdout",
     "output_type": "stream",
     "text": [
      "sigmt\n"
     ]
    }
   ],
   "source": [
    "print (generator())"
   ]
  },
  {
   "cell_type": "markdown",
   "metadata": {},
   "source": [
    "<h5> Lets ask user inout"
   ]
  },
  {
   "cell_type": "code",
   "execution_count": 10,
   "metadata": {},
   "outputs": [
    {
     "name": "stdout",
     "output_type": "stream",
     "text": [
      "Choose the FIRST alphabet from these options: \"1\" for vowels, \"2\" for consonants, \"3\" for any letter or input your specific choice of letter1\n"
     ]
    }
   ],
   "source": [
    "letter_input_1 = input('Choose the FIRST alphabet from these options: \"1\" for vowels, \"2\" for consonants, \"3\" for any letter or input your specific choice of letter')"
   ]
  },
  {
   "cell_type": "code",
   "execution_count": 11,
   "metadata": {},
   "outputs": [
    {
     "name": "stdout",
     "output_type": "stream",
     "text": [
      "Choose the FIRST alphabet from these options: \"1\" for vowels, \"2\" for consonants, \"3\" for any letter or input your specific choice of letter2\n"
     ]
    }
   ],
   "source": [
    "letter_input_2 = input('Choose the FIRST alphabet from these options: \"1\" for vowels, \"2\" for consonants, \"3\" for any letter or input your specific choice of letter')"
   ]
  },
  {
   "cell_type": "code",
   "execution_count": 12,
   "metadata": {},
   "outputs": [
    {
     "name": "stdout",
     "output_type": "stream",
     "text": [
      "Choose the THIRD alphabet from these options: \"1\" for vowels, \"2\" for consonants, \"3\" for any letter or input your specific choice of letter1\n"
     ]
    }
   ],
   "source": [
    "letter_input_3 = input('Choose the THIRD alphabet from these options: \"1\" for vowels, \"2\" for consonants, \"3\" for any letter or input your specific choice of letter')"
   ]
  },
  {
   "cell_type": "code",
   "execution_count": 13,
   "metadata": {},
   "outputs": [
    {
     "name": "stdout",
     "output_type": "stream",
     "text": [
      "Choose the FORTH alphabet from these options: \"1\" for vowels, \"2\" for consonants, \"3\" for any letter or input your specific choice of letter@\n"
     ]
    }
   ],
   "source": [
    "letter_input_4 = input('Choose the FORTH alphabet from these options: \"1\" for vowels, \"2\" for consonants, \"3\" for any letter or input your specific choice of letter')"
   ]
  },
  {
   "cell_type": "code",
   "execution_count": 14,
   "metadata": {},
   "outputs": [
    {
     "name": "stdout",
     "output_type": "stream",
     "text": [
      "Choose the FIFTH alphabet from these options: \"1\" for vowels, \"2\" for consonants, \"3\" for any letter or input your specific choice of letterl\n"
     ]
    }
   ],
   "source": [
    "letter_input_5 = input('Choose the FIFTH alphabet from these options: \"1\" for vowels, \"2\" for consonants, \"3\" for any letter or input your specific choice of letter')"
   ]
  },
  {
   "cell_type": "code",
   "execution_count": 15,
   "metadata": {},
   "outputs": [],
   "source": [
    "vowels = 'aeiou'\n",
    "consonants = 'bcdfghjklmnpqrstvwxyz'\n",
    "letter = string.ascii_lowercase"
   ]
  },
  {
   "cell_type": "code",
   "execution_count": 19,
   "metadata": {},
   "outputs": [],
   "source": [
    "def generator():\n",
    "    if letter_input_1 == \"1\":\n",
    "        letter1=random.choice(vowels)\n",
    "    elif letter_input_1 == \"2\":\n",
    "        letter1=random.choice(consonants)\n",
    "    elif letter_input_1 == \"3\":\n",
    "        letter1=random.choice(letter)\n",
    "    else:\n",
    "        letter1= letter_input_1 # Allowing user to select their SPECIFIC letter\n",
    "    \n",
    "    if letter_input_2 == \"1\":\n",
    "        letter2=random.choice(vowels)\n",
    "    elif letter_input_2 == \"2\":\n",
    "        letter2=random.choice(consonants)\n",
    "    elif letter_input_2 == \"3\":\n",
    "        letter2=random.choice(letter)\n",
    "    else:\n",
    "        letter2= letter_input_2 # Allowing user to select their SPECIFIC letter\n",
    "    \n",
    "    if letter_input_3 == \"1\":\n",
    "        letter3=random.choice(vowels)\n",
    "    elif letter_input_3 == \"2\":\n",
    "        letter3=random.choice(consonants)\n",
    "    elif letter_input_3 == \"3\":\n",
    "        letter3=random.choice(letter)\n",
    "    else:\n",
    "        letter3= letter_input_3 # Allowing user to select their SPECIFIC letter\n",
    "     \n",
    "    if letter_input_4 == \"1\":\n",
    "        letter4=random.choice(vowels)\n",
    "    elif letter_input_4 == \"2\":\n",
    "        letter4=random.choice(consonants)\n",
    "    elif letter_input_4 == \"3\":\n",
    "        letter4=random.choice(letter)\n",
    "    else:\n",
    "        letter4= letter_input_4 # Allowing user to select their SPECIFIC letter\n",
    "    \n",
    "    if letter_input_5 == \"1\":\n",
    "        letter5=random.choice(vowels)\n",
    "    elif letter_input_5 == \"2\":\n",
    "        letter5=random.choice(consonants)\n",
    "    elif letter_input_5 == \"3\":\n",
    "        letter5=random.choice(letter)\n",
    "    else:\n",
    "        letter5= letter_input_5 # Allowing user to select their SPECIFIC letter\n",
    "        \n",
    "    name = letter1+letter2+letter3+letter4+letter5\n",
    "    return (name)\n"
   ]
  },
  {
   "cell_type": "markdown",
   "metadata": {},
   "source": [
    "<h3>GENERATE 20 NAMES"
   ]
  },
  {
   "cell_type": "code",
   "execution_count": 17,
   "metadata": {},
   "outputs": [
    {
     "name": "stdout",
     "output_type": "stream",
     "text": [
      "age@l\n",
      "ase@l\n",
      "ovu@l\n",
      "uji@l\n",
      "oqe@l\n",
      "ifu@l\n",
      "uyu@l\n",
      "ifo@l\n",
      "ufu@l\n",
      "oju@l\n",
      "ete@l\n",
      "iza@l\n",
      "uyi@l\n",
      "ulu@l\n",
      "upo@l\n",
      "api@l\n",
      "uri@l\n",
      "ede@l\n",
      "agu@l\n",
      "axi@l\n"
     ]
    }
   ],
   "source": [
    "for babynames in range(20):\n",
    "    print(generator())"
   ]
  }
 ],
 "metadata": {
  "kernelspec": {
   "display_name": "Python 3",
   "language": "python",
   "name": "python3"
  },
  "language_info": {
   "codemirror_mode": {
    "name": "ipython",
    "version": 3
   },
   "file_extension": ".py",
   "mimetype": "text/x-python",
   "name": "python",
   "nbconvert_exporter": "python",
   "pygments_lexer": "ipython3",
   "version": "3.6.4"
  }
 },
 "nbformat": 4,
 "nbformat_minor": 2
}
